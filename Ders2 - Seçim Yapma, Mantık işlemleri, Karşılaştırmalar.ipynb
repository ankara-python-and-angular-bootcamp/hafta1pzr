{
 "cells": [
  {
   "cell_type": "markdown",
   "metadata": {},
   "source": [
    "Yeni başlayanlar için Python programlama temellerini işlediğimiz yazı dizimizin bu bölümünde karar verme yapısından bahsedeceğiz.\n",
    "\n",
    "En basit programlarda bile sık sık \"şu şart doğruysa şöyle yap, yoksa yapma\", veya \"doğruysa şöyle yap, yanlışsa öbür türlü yap\" şeklinde düzenlemelere ihtiyaç duyarız. Sözgelişi, \"cevap doğruysa puanı bir arttır\", veya \"yanlış sayısı dördün katıysa puanı bir azalt\" gibi. Birçok dil gibi Python'da da seçim yapısı `if-else` komutlarıyla kurulur.\n",
    "\n",
    "if komutu\n",
    "======\n",
    "Karar yapılarının en basit hali, bir şartın doğruluğunu yoklamak ve doğruysa belli işlemler yapmaktır. Sözgelişi aşağıdaki programa bakalım. Hücreyi Shift-Enter ile çalıştırdığımızda tahminimizi soran bir kutu ortaya çıkacak. Kutuya bir cevap yazıp Enter'e basın."
   ]
  },
  {
   "cell_type": "code",
   "execution_count": 2,
   "metadata": {
    "ExecuteTime": {
     "end_time": "2020-02-25T15:50:23.937432Z",
     "start_time": "2020-02-25T15:50:16.962078Z"
    }
   },
   "outputs": [
    {
     "name": "stdout",
     "output_type": "stream",
     "text": [
      "Tahmininiz: 42\n",
      "Doğru!\n"
     ]
    }
   ],
   "source": [
    "hedef = \"42\"\n",
    "tahmin = input(\"Tahmininiz: \")\n",
    "if tahmin == hedef:\n",
    "    print(\"Doğru!\")"
   ]
  },
  {
   "cell_type": "code",
   "execution_count": 4,
   "metadata": {
    "ExecuteTime": {
     "end_time": "2020-02-25T15:52:43.508666Z",
     "start_time": "2020-02-25T15:52:39.733003Z"
    }
   },
   "outputs": [
    {
     "name": "stdout",
     "output_type": "stream",
     "text": [
      "Tahmininiz: 56\n",
      "Yanlış!\n"
     ]
    }
   ],
   "source": [
    "hedef = \"42\"\n",
    "tahmin = input(\"Tahmininiz: \")\n",
    "if tahmin == hedef:\n",
    "    print(\"Doğru!\")\n",
    "if tahmin != hedef:\n",
    "    print(\"Yanlış!\")"
   ]
  },
  {
   "cell_type": "markdown",
   "metadata": {},
   "source": [
    "Sayı `hedef` değerine (`\"42\"`) eşitse ekrana `\"Doğru!\"` yazısını basacak, değilse birşey yapmayacak. Şarttan sonra iki nokta üstüste (`:`) koymayı da unutmayın.\n",
    "\n",
    "(Bu hücredeki kodu kendi başına çalışan bir betik haline getirmek için, kodu kopyalayıp bir metin editörüne yapıştırın ve tahmin.py isimli bir dosya olarak kaydedin. Böylece komut satırında çalıştırabilirsiniz:\n",
    "\n",
    "    $ python3 tahmin.py\n",
    "    Tahmininiz: 42\n",
    "    Doğru!\n",
    "şeklinde bir çıktınız olmalı)\n",
    "\n",
    "`if`'den sonra `tahmin`'in `hedef`'e eşit olup olmadığını yoklayan bir mantık ifadesi var. Bunun değeri ya doğru (`True`) ya da yanlış (`False`) olacak. Eşitlik şartı için `==` (iki tane eşit işareti) kullanıldığına dikkat edin."
   ]
  },
  {
   "cell_type": "code",
   "execution_count": 5,
   "metadata": {
    "ExecuteTime": {
     "end_time": "2020-02-25T15:54:18.701960Z",
     "start_time": "2020-02-25T15:54:18.691047Z"
    }
   },
   "outputs": [
    {
     "data": {
      "text/plain": [
       "True"
      ]
     },
     "execution_count": 5,
     "metadata": {},
     "output_type": "execute_result"
    }
   ],
   "source": [
    "1 == 1"
   ]
  },
  {
   "cell_type": "code",
   "execution_count": 6,
   "metadata": {
    "ExecuteTime": {
     "end_time": "2020-02-25T15:54:23.923616Z",
     "start_time": "2020-02-25T15:54:23.918162Z"
    }
   },
   "outputs": [
    {
     "data": {
      "text/plain": [
       "False"
      ]
     },
     "execution_count": 6,
     "metadata": {},
     "output_type": "execute_result"
    }
   ],
   "source": [
    "1 == 2"
   ]
  },
  {
   "cell_type": "code",
   "execution_count": 7,
   "metadata": {
    "ExecuteTime": {
     "end_time": "2020-02-25T15:54:30.623817Z",
     "start_time": "2020-02-25T15:54:30.613925Z"
    }
   },
   "outputs": [
    {
     "ename": "SyntaxError",
     "evalue": "can't assign to literal (<ipython-input-7-ecdac3dcabfd>, line 1)",
     "output_type": "error",
     "traceback": [
      "\u001b[1;36m  File \u001b[1;32m\"<ipython-input-7-ecdac3dcabfd>\"\u001b[1;36m, line \u001b[1;32m1\u001b[0m\n\u001b[1;33m    1 = 1\u001b[0m\n\u001b[1;37m         ^\u001b[0m\n\u001b[1;31mSyntaxError\u001b[0m\u001b[1;31m:\u001b[0m can't assign to literal\n"
     ]
    }
   ],
   "source": [
    "1 = 1"
   ]
  },
  {
   "cell_type": "markdown",
   "metadata": {},
   "source": [
    "Şarttan sonraki satırlara, şart doğruysa çalıştırılacak kod parçası (_if bloku_) gelir. Burada Python'un kendine özgü bir kuralını görüyoruz: Bloktaki her ifade, `if` başlığına göre belli bir miktar sağa kaydırılmalıdır. Yorumlayıcı hangi komutların  `if` blokuna ait olduğunu bu kaydırma sayesinde ayırt eder.\n",
    "\n",
    "Meselâ şu iki ayrı programa bakalım:\n",
    "\n",
    "    hedef = \"42\"\n",
    "    tahmin = input(\"Tahmininiz: \")\n",
    "    if tahmin == hedef:\n",
    "        print(\"Doğru!\")\n",
    "        print(\"Bravo\")\n",
    "ve:\n",
    "\n",
    "    hedef = \"42\"\n",
    "    tahmin = input(\"Tahmininiz: \")\n",
    "    if tahmin == hedef:\n",
    "        print(\"Doğru!\")\n",
    "    print(\"Bravo\")\n",
    "    \n",
    "İkinci programdaki\n",
    "\n",
    "    print \"Bravo\"\n",
    "komutu `if` blokunun dışında olduğu için, tahmin doğru olsa da olmasa da çalıştırılır. Deneyin.\n",
    "\n",
    "`if` içindeki blokun kaç boşluk sağa kaydırılacağı önemli değildir; bir tek boşluk bile yeterlidir. Çoğu IDE otomatik olarak dört boşluk genişlikte bir sıçrama yapar; Python programcılık camiasında tavsiye edilen de budur. Sonraki satırlar da aynı kaydırma seviyesinde başlar. Bu yüzden, bloku bitirmek için yeni satıra geçtikten sonra geriye silme (Backspace) tuşuna basmalısınız.\n",
    "\n",
    "if-else komutu\n",
    "========\n",
    "Yukarıdaki program bize sadece tahminimiz doğruysa bir cevap veriyor. Tahminimizin yanlış olduğunu da söylemesini istersek `if-else` yapısını kullanırız."
   ]
  },
  {
   "cell_type": "code",
   "execution_count": 8,
   "metadata": {
    "ExecuteTime": {
     "end_time": "2020-02-25T15:57:48.056610Z",
     "start_time": "2020-02-25T15:57:44.081672Z"
    }
   },
   "outputs": [
    {
     "name": "stdout",
     "output_type": "stream",
     "text": [
      "Tahmininiz: 56\n",
      "Yanlış\n"
     ]
    }
   ],
   "source": [
    "hedef = \"42\"\n",
    "x = input(\"Tahmininiz: \")\n",
    "if x == hedef:\n",
    "    print(\"Doğru!\")\n",
    "else:\n",
    "    print(\"Yanlış\")"
   ]
  },
  {
   "cell_type": "markdown",
   "metadata": {},
   "source": [
    "`else` ifadesinden sonra herhangi bir şart gelmez, çünkü `else` bloku zaten sadece `if` şartı yanlışsa çalıştırılır. `else` kelimesinin, bağlı olduğu `if` ile aynı kaydırma seviyesinde olduğuna dikkat edin.\n",
    "\n",
    "Her `else` bir `if`'e bağlı olmalıdır, ama tersi doğru değildir. Her `if`'e bir `else` gerekmez.\n",
    "\n",
    "if-elif-else komutu\n",
    "===========\n",
    "`if` kullanımının en genel hali budur. `elif` kelimesi `else if`'in kısaltmasıdır."
   ]
  },
  {
   "cell_type": "code",
   "execution_count": 9,
   "metadata": {
    "ExecuteTime": {
     "end_time": "2020-02-25T15:59:44.274849Z",
     "start_time": "2020-02-25T15:59:34.913529Z"
    }
   },
   "outputs": [
    {
     "name": "stdout",
     "output_type": "stream",
     "text": [
      "Kaç tane? 567\n",
      "Yüzlerce\n"
     ]
    }
   ],
   "source": [
    "x = int(input(\"Kaç tane? \"))\n",
    "if x>2000:\n",
    "    print(\"Binlerce\")\n",
    "elif x>200:\n",
    "    print(\"Yüzlerce\")\n",
    "elif x>10:\n",
    "    print(\"Çok\")\n",
    "elif x>0:\n",
    "    print(\"Birkaç\")\n",
    "else:\n",
    "    print(\"Yok\")"
   ]
  },
  {
   "cell_type": "markdown",
   "metadata": {},
   "source": [
    "Aynı programı `elif` kullanmadan ancak şöyle yazabiliriz:"
   ]
  },
  {
   "cell_type": "code",
   "execution_count": 10,
   "metadata": {
    "ExecuteTime": {
     "end_time": "2020-02-25T16:02:13.668689Z",
     "start_time": "2020-02-25T16:02:09.787802Z"
    }
   },
   "outputs": [
    {
     "name": "stdout",
     "output_type": "stream",
     "text": [
      "Kaç tane? 5\n",
      "Birkaç\n"
     ]
    }
   ],
   "source": [
    "x = int(input(\"Kaç tane? \"))\n",
    "if x>2000:\n",
    "    print(\"Binlerce\")\n",
    "else:\n",
    "    if x>200:\n",
    "        print(\"Yüzlerce\")\n",
    "    else:\n",
    "        if x>10:\n",
    "            print(\"Çok\")\n",
    "        else:\n",
    "            if x>0:\n",
    "                print(\"Birkaç\")\n",
    "            else:\n",
    "                print(\"Yok\")"
   ]
  },
  {
   "cell_type": "markdown",
   "metadata": {},
   "source": [
    "Görüldüğü gibi `elif` kullanmak programı sadeleştiriyor.\n",
    "\n",
    "Karşılaştırmalar\n",
    "=========\n",
    "`if`'den sonra, mantıksal olarak doğru veya yanlış sayılacak ifadeler gelmelidir. Eşitlikten yukarıda bahsettik. Ayrıca `>` (büyük), `<` (küçük), `>=` (büyük veya eşit), `<=` (küçük veya eşit) ve `!=` (eşit değil) işlemleri kullanılabilir."
   ]
  },
  {
   "cell_type": "code",
   "execution_count": 11,
   "metadata": {
    "ExecuteTime": {
     "end_time": "2020-02-25T16:02:47.792197Z",
     "start_time": "2020-02-25T16:02:47.786245Z"
    }
   },
   "outputs": [
    {
     "data": {
      "text/plain": [
       "(False, False, True, True, True)"
      ]
     },
     "execution_count": 11,
     "metadata": {},
     "output_type": "execute_result"
    }
   ],
   "source": [
    "2 > 3, 2 >= 3, 2 < 3, 2 <= 3, 2 != 3"
   ]
  },
  {
   "cell_type": "markdown",
   "metadata": {},
   "source": [
    "Sayı olmayan veri yapıları da karşılaştırmalarda kullanılabilirler. O durumda, eşitsizliklerin değerlendirilmesinde alfabetik sıra kullanılır."
   ]
  },
  {
   "cell_type": "code",
   "execution_count": 12,
   "metadata": {
    "ExecuteTime": {
     "end_time": "2020-02-25T16:03:29.660210Z",
     "start_time": "2020-02-25T16:03:29.655748Z"
    }
   },
   "outputs": [
    {
     "data": {
      "text/plain": [
       "(False, True, True)"
      ]
     },
     "execution_count": 12,
     "metadata": {},
     "output_type": "execute_result"
    }
   ],
   "source": [
    "\"hello\" == \"Hello\", \"hello\" > \"Hello\", \"hello\" < \"jello\""
   ]
  },
  {
   "cell_type": "code",
   "execution_count": 13,
   "metadata": {
    "ExecuteTime": {
     "end_time": "2020-02-25T16:06:32.171594Z",
     "start_time": "2020-02-25T16:06:32.165147Z"
    }
   },
   "outputs": [
    {
     "data": {
      "text/plain": [
       "(True, True)"
      ]
     },
     "execution_count": 13,
     "metadata": {},
     "output_type": "execute_result"
    }
   ],
   "source": [
    "[1,2,3] < [1,20,3], [1,2,3] < [11,2,3]"
   ]
  },
  {
   "cell_type": "markdown",
   "metadata": {},
   "source": [
    "Daha fazla bilgi için <a href=\"http://docs.python.org/2/reference/expressions.html#not-in\">Python dili referansına</a> bakabilirsiniz.\n",
    "\n",
    "Bir veri yapısı içinde belli bir eleman veya alt grubun bulunup bulunmadığını `in` kelimesiyle test edebilirsiniz. Şartı ters çevirmek için `not in` kullanılır."
   ]
  },
  {
   "cell_type": "code",
   "execution_count": 14,
   "metadata": {
    "ExecuteTime": {
     "end_time": "2020-02-25T16:07:39.324853Z",
     "start_time": "2020-02-25T16:07:39.318404Z"
    }
   },
   "outputs": [
    {
     "data": {
      "text/plain": [
       "(True, False, True, False)"
      ]
     },
     "execution_count": 14,
     "metadata": {},
     "output_type": "execute_result"
    }
   ],
   "source": [
    "L = [12,3,4,[5,6]]\n",
    "3 in L, [3,4] in L, [5,6] in L, [5,6] not in L"
   ]
  },
  {
   "cell_type": "code",
   "execution_count": 15,
   "metadata": {
    "ExecuteTime": {
     "end_time": "2020-02-25T16:08:35.134225Z",
     "start_time": "2020-02-25T16:08:35.129299Z"
    }
   },
   "outputs": [
    {
     "data": {
      "text/plain": [
       "(True, True)"
      ]
     },
     "execution_count": 15,
     "metadata": {},
     "output_type": "execute_result"
    }
   ],
   "source": [
    "s = \"merhaba\"\n",
    "\"a\" in s, \"erh\" in s"
   ]
  },
  {
   "cell_type": "code",
   "execution_count": 17,
   "metadata": {
    "ExecuteTime": {
     "end_time": "2020-02-25T16:11:04.342732Z",
     "start_time": "2020-02-25T16:10:57.622218Z"
    }
   },
   "outputs": [
    {
     "name": "stdout",
     "output_type": "stream",
     "text": [
      "bir isim yaz: ismet\n",
      "ismin içinde 'a' harfi geçmiyor!\n"
     ]
    }
   ],
   "source": [
    "cümle = input(\"bir isim yaz: \")\n",
    "if \"a\" in cümle:\n",
    "    print(\"ismin içinde 'a' harfi geçiyor!\")\n",
    "else:\n",
    "    print(\"ismin içinde 'a' harfi geçmiyor!\")"
   ]
  },
  {
   "cell_type": "markdown",
   "metadata": {},
   "source": [
    "Sözlüklerde `in` kelimesi sadece referanslar içinde yoklama yapar."
   ]
  },
  {
   "cell_type": "code",
   "execution_count": 18,
   "metadata": {
    "ExecuteTime": {
     "end_time": "2020-02-25T16:11:37.470008Z",
     "start_time": "2020-02-25T16:11:37.464055Z"
    }
   },
   "outputs": [
    {
     "data": {
      "text/plain": [
       "(True, False, True)"
      ]
     },
     "execution_count": 18,
     "metadata": {},
     "output_type": "execute_result"
    }
   ],
   "source": [
    "d = {\"abc\": 54, (1,2): -45.1}\n",
    "\"abc\" in d, 54 in d, (1,2) in d"
   ]
  },
  {
   "cell_type": "markdown",
   "metadata": {},
   "source": [
    "Doğru ve yanlış sabitleri\n",
    "==============\n",
    "`True` ve `False`, aslında 1 ve 0 sayılarına verilen yeni isimlerdir. Ayrıca,\n",
    "\n",
    "    [], {}, \"\", None, 0, 0.0, False\n",
    "ifadelerinin her biri mantıksal yanlış anlamı taşır. Tersine olarak da, sıfırdan farklı her sayı veya boş olmayan herhangi bir liste/çokuz/dize/sözlük `if` yapılarında mantıksal doğru olarak yorumlanırlar."
   ]
  },
  {
   "cell_type": "code",
   "execution_count": 19,
   "metadata": {
    "ExecuteTime": {
     "end_time": "2020-02-25T16:12:52.896454Z",
     "start_time": "2020-02-25T16:12:52.891989Z"
    }
   },
   "outputs": [
    {
     "name": "stdout",
     "output_type": "stream",
     "text": [
      "Liste boş.\n"
     ]
    }
   ],
   "source": [
    "L=[]\n",
    "if L:\n",
    "    print(\"Liste dolu\")\n",
    "else:\n",
    "    print(\"Liste boş.\")"
   ]
  },
  {
   "cell_type": "code",
   "execution_count": 20,
   "metadata": {
    "ExecuteTime": {
     "end_time": "2020-02-25T16:13:41.929212Z",
     "start_time": "2020-02-25T16:13:41.924251Z"
    }
   },
   "outputs": [
    {
     "name": "stdout",
     "output_type": "stream",
     "text": [
      "abc\n"
     ]
    }
   ],
   "source": [
    "s = \"abc\"\n",
    "if s:\n",
    "    print(s)\n",
    "else:\n",
    "    print(\"Boş\")"
   ]
  },
  {
   "cell_type": "markdown",
   "metadata": {},
   "source": [
    "Mantıksal işlemler\n",
    "==========\n",
    "Birden fazla şartı Boole işlemleri (`and`, `or`, `not`) ile biraraya getirerek, daha karmaşık şartlar oluşturmak mümkün olur.\n",
    "\n",
    "* `X and Y` : Hem `X` hem `Y` doğruysa doğru; `X` ve `Y`'den en az biri yanlışsa yanlış.\n",
    "* `X or Y` : `X` ve `Y`'den en az biri doğruysa doğru; hem `X` hem `Y` yanlışsa yanlış.\n",
    "* `not X` : `X`'in doğruluk değerinin tersi."
   ]
  },
  {
   "cell_type": "code",
   "execution_count": 21,
   "metadata": {
    "ExecuteTime": {
     "end_time": "2020-02-25T16:14:28.544443Z",
     "start_time": "2020-02-25T16:14:28.539980Z"
    }
   },
   "outputs": [
    {
     "data": {
      "text/plain": [
       "True"
      ]
     },
     "execution_count": 21,
     "metadata": {},
     "output_type": "execute_result"
    }
   ],
   "source": [
    "1 < 2 and 3==3"
   ]
  },
  {
   "cell_type": "code",
   "execution_count": 22,
   "metadata": {
    "ExecuteTime": {
     "end_time": "2020-02-25T16:14:41.659642Z",
     "start_time": "2020-02-25T16:14:41.653692Z"
    }
   },
   "outputs": [
    {
     "data": {
      "text/plain": [
       "False"
      ]
     },
     "execution_count": 22,
     "metadata": {},
     "output_type": "execute_result"
    }
   ],
   "source": [
    "1 < 2 and 3==4"
   ]
  },
  {
   "cell_type": "code",
   "execution_count": 23,
   "metadata": {
    "ExecuteTime": {
     "end_time": "2020-02-25T16:14:59.934828Z",
     "start_time": "2020-02-25T16:14:59.930366Z"
    }
   },
   "outputs": [
    {
     "data": {
      "text/plain": [
       "True"
      ]
     },
     "execution_count": 23,
     "metadata": {},
     "output_type": "execute_result"
    }
   ],
   "source": [
    "1 < 2 or 3==4"
   ]
  },
  {
   "cell_type": "code",
   "execution_count": 24,
   "metadata": {
    "ExecuteTime": {
     "end_time": "2020-02-25T16:15:26.677115Z",
     "start_time": "2020-02-25T16:15:26.670667Z"
    }
   },
   "outputs": [
    {
     "data": {
      "text/plain": [
       "False"
      ]
     },
     "execution_count": 24,
     "metadata": {},
     "output_type": "execute_result"
    }
   ],
   "source": [
    "1 > 2 or 3==4"
   ]
  },
  {
   "cell_type": "code",
   "execution_count": 25,
   "metadata": {
    "ExecuteTime": {
     "end_time": "2020-02-25T16:15:44.609293Z",
     "start_time": "2020-02-25T16:15:44.602349Z"
    }
   },
   "outputs": [
    {
     "data": {
      "text/plain": [
       "True"
      ]
     },
     "execution_count": 25,
     "metadata": {},
     "output_type": "execute_result"
    }
   ],
   "source": [
    "not 1>2"
   ]
  },
  {
   "cell_type": "code",
   "execution_count": 26,
   "metadata": {
    "ExecuteTime": {
     "end_time": "2020-02-25T16:15:54.693737Z",
     "start_time": "2020-02-25T16:15:54.687787Z"
    }
   },
   "outputs": [
    {
     "data": {
      "text/plain": [
       "False"
      ]
     },
     "execution_count": 26,
     "metadata": {},
     "output_type": "execute_result"
    }
   ],
   "source": [
    "not 3==3"
   ]
  },
  {
   "cell_type": "markdown",
   "metadata": {},
   "source": [
    "Boole ifadelerinde ikiden fazla bileşen de kullanılabilir. Önce `not` işlemi, sonra `and` işlemi, sonra da `or` işlemi yapılır. Aynı işlem yapılıyorsa, bileşenler soldan sağa çifter çifter alınır."
   ]
  },
  {
   "cell_type": "code",
   "execution_count": 27,
   "metadata": {
    "ExecuteTime": {
     "end_time": "2020-02-25T16:16:21.965255Z",
     "start_time": "2020-02-25T16:16:21.959799Z"
    }
   },
   "outputs": [
    {
     "data": {
      "text/plain": [
       "True"
      ]
     },
     "execution_count": 27,
     "metadata": {},
     "output_type": "execute_result"
    }
   ],
   "source": [
    "1 == 2 or 3 > 4 or 5 < 8"
   ]
  },
  {
   "cell_type": "code",
   "execution_count": 28,
   "metadata": {
    "ExecuteTime": {
     "end_time": "2020-02-25T16:16:45.899849Z",
     "start_time": "2020-02-25T16:16:45.894394Z"
    }
   },
   "outputs": [
    {
     "data": {
      "text/plain": [
       "True"
      ]
     },
     "execution_count": 28,
     "metadata": {},
     "output_type": "execute_result"
    }
   ],
   "source": [
    "1 != 2 and not 3 > 4 and 5 < 8"
   ]
  },
  {
   "cell_type": "code",
   "execution_count": 31,
   "metadata": {
    "ExecuteTime": {
     "end_time": "2020-02-25T16:17:54.124389Z",
     "start_time": "2020-02-25T16:17:54.117939Z"
    }
   },
   "outputs": [
    {
     "data": {
      "text/plain": [
       "True"
      ]
     },
     "execution_count": 31,
     "metadata": {},
     "output_type": "execute_result"
    }
   ],
   "source": [
    "1 != 2 and 3 <= 4 or 5 > 10 and 7 > 8"
   ]
  },
  {
   "cell_type": "markdown",
   "metadata": {},
   "source": [
    "\"Kısa devre\" işlemler\n",
    "============\n",
    "Mantıksal işlemlerin yan etkileri vardır: Mantıksal `or` (veya) işleminde, işlenen değerlerden sadece birisinin doğru olması işlem sonucunun doğru olması için yeterlidir. Bu yüzden, Python `X or Y` işlemini yaparken `X`'in doğru olduğunu görürse `Y`'ye hiç bakmaz, onu değerlemez, ve işlem sonucu olarak `X`'in değerini geri verir. Buna _kısa devre hesaplama_ adı verilir. Eğer `X` doğru değilse, `Y` ne olursa olsun, `Y`'yi verir.\n",
    "\n",
    "Kısa devre özelliği hesaplama verimliliği de sağlar. Bazen bu işlemlerin bileşenleri karmaşık işlemlerle elde ediliyor olabilir. Sözgelişi `Y` yerine, bir fonksiyon çağrısı koyuyor olabiliriz, ve bu fonksiyon ağır işlemler yapıyor olabilir. Böyle durumlarda kısa devre işlemler hesaplamada verimlilik sağlarlar, `Y`'yi boş yere hesaplamazlar."
   ]
  },
  {
   "cell_type": "markdown",
   "metadata": {},
   "source": [
    "Aşağıdaki örnekte, `\"abc\"` doğru sayıldığı için, `print` işlemi hiç yapılmadan `\"abc\"` geri verilir."
   ]
  },
  {
   "cell_type": "code",
   "execution_count": 32,
   "metadata": {
    "ExecuteTime": {
     "end_time": "2020-02-25T16:19:21.967734Z",
     "start_time": "2020-02-25T16:19:21.962775Z"
    }
   },
   "outputs": [
    {
     "data": {
      "text/plain": [
       "'abc'"
      ]
     },
     "execution_count": 32,
     "metadata": {},
     "output_type": "execute_result"
    }
   ],
   "source": [
    "\"abc\" or print(\"mrb\")"
   ]
  },
  {
   "cell_type": "markdown",
   "metadata": {},
   "source": [
    "Aşağıdaki örnekte, `or` işleminin değerini anlamak için `print` komutu işlenir. Bunun yan etkisi olarak `\"mrb\"` yazılır. Ama `print` çağrısı `None` verir, o yüzden `or` işlemi de `None` sonucu verir."
   ]
  },
  {
   "cell_type": "code",
   "execution_count": 35,
   "metadata": {
    "ExecuteTime": {
     "end_time": "2020-02-25T16:21:12.321114Z",
     "start_time": "2020-02-25T16:21:12.317149Z"
    }
   },
   "outputs": [
    {
     "name": "stdout",
     "output_type": "stream",
     "text": [
      "mrb\n"
     ]
    }
   ],
   "source": [
    "False or print(\"mrb\")"
   ]
  },
  {
   "cell_type": "code",
   "execution_count": 36,
   "metadata": {
    "ExecuteTime": {
     "end_time": "2020-02-25T16:21:47.064931Z",
     "start_time": "2020-02-25T16:21:47.058483Z"
    }
   },
   "outputs": [
    {
     "data": {
      "text/plain": [
       "3"
      ]
     },
     "execution_count": 36,
     "metadata": {},
     "output_type": "execute_result"
    }
   ],
   "source": [
    "0 or 3"
   ]
  },
  {
   "cell_type": "markdown",
   "metadata": {},
   "source": [
    "Benzer bir durum `X and Y` işlemi için de geçerlidir. Eğer `X` mantıksal olarak yanlışsa, `Y `ne olursa olsun bütün ifade yanlış olur, böylece `X` değeri geri verilir. Ama `X` doğruysa, işlemin doğruluk değeri `Y`'ye bağlıdır, ve `Y `değeri geri verilir."
   ]
  },
  {
   "cell_type": "code",
   "execution_count": 42,
   "metadata": {
    "ExecuteTime": {
     "end_time": "2020-02-25T16:22:57.748967Z",
     "start_time": "2020-02-25T16:22:57.743014Z"
    }
   },
   "outputs": [
    {
     "data": {
      "text/plain": [
       "3"
      ]
     },
     "execution_count": 42,
     "metadata": {},
     "output_type": "execute_result"
    }
   ],
   "source": [
    "2 and 3"
   ]
  },
  {
   "cell_type": "code",
   "execution_count": 38,
   "metadata": {
    "ExecuteTime": {
     "end_time": "2020-02-25T16:22:20.072466Z",
     "start_time": "2020-02-25T16:22:20.068994Z"
    }
   },
   "outputs": [
    {
     "name": "stdout",
     "output_type": "stream",
     "text": [
      "mrb\n"
     ]
    }
   ],
   "source": [
    "3 and print(\"mrb\")"
   ]
  },
  {
   "cell_type": "code",
   "execution_count": 39,
   "metadata": {
    "ExecuteTime": {
     "end_time": "2020-02-25T16:22:29.372513Z",
     "start_time": "2020-02-25T16:22:29.367546Z"
    }
   },
   "outputs": [
    {
     "data": {
      "text/plain": [
       "0"
      ]
     },
     "execution_count": 39,
     "metadata": {},
     "output_type": "execute_result"
    }
   ],
   "source": [
    "0 and 2"
   ]
  },
  {
   "cell_type": "code",
   "execution_count": 40,
   "metadata": {
    "ExecuteTime": {
     "end_time": "2020-02-25T16:22:41.977709Z",
     "start_time": "2020-02-25T16:22:41.972253Z"
    }
   },
   "outputs": [
    {
     "data": {
      "text/plain": [
       "[]"
      ]
     },
     "execution_count": 40,
     "metadata": {},
     "output_type": "execute_result"
    }
   ],
   "source": [
    "[] and False"
   ]
  },
  {
   "cell_type": "markdown",
   "metadata": {},
   "source": [
    "Bu özellik çeşitli \"hack\"ler için kullanılabilir. Sözgelişi\n",
    "\n",
    "    X = A or B or C or None\n",
    "ifadesi, `X`'in, `A`, `B`, `C` arasında boş olmayan ilk nesneye atanmasını, veya `None` olmasını sağlar. Aynı şeyi `if-elif-else` kullanarak yapmak daha uzun bir kod gerektirir.\n",
    "\n",
    "    if A:\n",
    "        X = A\n",
    "    elif B:\n",
    "        X = B\n",
    "    elif C:\n",
    "        X = C\n",
    "    else:\n",
    "        X = None"
   ]
  },
  {
   "cell_type": "markdown",
   "metadata": {},
   "source": [
    "Üçlü if-else ifadesi\n",
    "===========\n",
    "Birçok durumda, bir değişkene, bir şartın doğru veya yanlış olmasına göre farklı değerler atarız. Sözgelişi, `x` mantık ifadesinin doğru olması halinde `a`'ya `y` değeri verelim, aksi takdirde `z` verelim.\n",
    "\n",
    "    if x:\n",
    "        a = y\n",
    "    else:\n",
    "        a = z\n",
    "Üçlü `if-else` ifadesiyle aynısını daha kısa olarak şöyle yazabiliriz:\n",
    "\n",
    "    a = y if x else z\n",
    "Örnek olarak, `m`'ye `x`'in mutlak değerini atayalım."
   ]
  },
  {
   "cell_type": "code",
   "execution_count": 44,
   "metadata": {
    "ExecuteTime": {
     "end_time": "2020-02-25T16:24:53.465730Z",
     "start_time": "2020-02-25T16:24:47.927581Z"
    }
   },
   "outputs": [
    {
     "name": "stdout",
     "output_type": "stream",
     "text": [
      "Bir sayı girin: -2\n",
      "2.0\n"
     ]
    }
   ],
   "source": [
    "x = float(input(\"Bir sayı girin: \"))\n",
    "m = x if x>0 else -x\n",
    "print(m)"
   ]
  },
  {
   "cell_type": "markdown",
   "metadata": {},
   "source": [
    "En baştaki örneği de şöyle yazabiliriz."
   ]
  },
  {
   "cell_type": "code",
   "execution_count": 45,
   "metadata": {
    "ExecuteTime": {
     "end_time": "2020-02-25T16:26:34.010934Z",
     "start_time": "2020-02-25T16:26:17.859970Z"
    }
   },
   "outputs": [
    {
     "name": "stdout",
     "output_type": "stream",
     "text": [
      "Tahmininiz: 42\n",
      "Doğru!\n"
     ]
    }
   ],
   "source": [
    "hedef = \"42\"\n",
    "x = input(\"Tahmininiz: \")\n",
    "print(\"Doğru!\" if x == hedef else \"Yanlış\")"
   ]
  },
  {
   "cell_type": "code",
   "execution_count": 46,
   "metadata": {
    "ExecuteTime": {
     "end_time": "2020-02-25T16:27:20.937120Z",
     "start_time": "2020-02-25T16:27:17.708339Z"
    }
   },
   "outputs": [
    {
     "name": "stdout",
     "output_type": "stream",
     "text": [
      "Tahmininiz: 42\n",
      "Doğru!\n"
     ]
    }
   ],
   "source": [
    "hedef = 42\n",
    "x = int(input(\"Tahmininiz: \"))\n",
    "print(\"Doğru!\" if x == hedef else \"Yanlış\")"
   ]
  },
  {
   "cell_type": "markdown",
   "metadata": {},
   "source": [
    "Bir `if-elif-else` blokunu üçlü `if-else` ifadesi olarak yazabiliriz. Sözgelişi\n",
    "\n",
    "    if rating > 100:\n",
    "        sinif = \"A\"\n",
    "    elif rating > 50:\n",
    "        sinif = \"B\"\n",
    "    else:\n",
    "        sinif = \"C\"\n",
    "yerine\n",
    "\n",
    "    sinif = \"A\" if rating > 100 else \"B\" if rating > 50 else \"C\"\n",
    "yazılabilir. Ama aşırıya kaçırırsanız programın okunması zorlaşır."
   ]
  }
 ],
 "metadata": {
  "kernelspec": {
   "display_name": "Python 3",
   "language": "python",
   "name": "python3"
  },
  "language_info": {
   "codemirror_mode": {
    "name": "ipython",
    "version": 3
   },
   "file_extension": ".py",
   "mimetype": "text/x-python",
   "name": "python",
   "nbconvert_exporter": "python",
   "pygments_lexer": "ipython3",
   "version": "3.7.1"
  }
 },
 "nbformat": 4,
 "nbformat_minor": 2
}
